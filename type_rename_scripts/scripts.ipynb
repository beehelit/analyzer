{
 "cells": [
  {
   "cell_type": "code",
   "execution_count": 4,
   "metadata": {},
   "outputs": [
    {
     "data": {
      "text/plain": [
       "['SELF_PING_ACTOR', 'SELF_PING_ACTOR', 'SELF_PING_ACTOR']"
      ]
     },
     "execution_count": 4,
     "metadata": {},
     "output_type": "execute_result"
    }
   ],
   "source": [
    "allTypes = []\n",
    "\n",
    "with open(\"../data/storage_start_err.log\") as logs:\n",
    "    for line in logs:\n",
    "        words = line.strip().split()\n",
    "        if words[0] == \"Receive\":\n",
    "            allTypes.append(words[5])\n",
    "\n",
    "allTypes[-3:]"
   ]
  },
  {
   "cell_type": "code",
   "execution_count": null,
   "metadata": {},
   "outputs": [],
   "source": [
    "toReplace = {}\n",
    "\n",
    "for type in allTypes:\n",
    "    if type == type.upper():\n",
    "        flag = True\n",
    "        for letter in type:\n",
    "            if letter != '_' and (ord(letter) < ord('A') or ord(letter) > ord('Z')):\n",
    "                flag = False\n",
    "                break\n",
    "        \n",
    "        if flag:\n",
    "            oldType = type\n",
    "            splittedType = type.split('_')\n",
    "            newTypeSplitted = []\n",
    "            for type in splittedType:\n",
    "                newTypeSplitted.append(type.lower())\n",
    "                newTypeSplitted[-1] = newTypeSplitted[-1][0].upper() + newTypeSplitted[-1][1:]\n",
    "            newType = ''.join(newTypeSplitted)\n",
    "            toReplace[oldType] = newType\n",
    "\n",
    "toReplace"
   ]
  },
  {
   "cell_type": "code",
   "execution_count": 14,
   "metadata": {},
   "outputs": [
    {
     "data": {
      "text/plain": [
       "{'NKikimr::NConveyor::TDistributor'}"
      ]
     },
     "execution_count": 14,
     "metadata": {},
     "output_type": "execute_result"
    }
   ],
   "source": [
    "mapped = set()\n",
    "\n",
    "with open(\"../data/actor_types_map.config\", \"r\") as typesMapConfig:\n",
    "    for line in typesMapConfig:\n",
    "        lineSplitted = line.strip().split('=')\n",
    "        mapped.add(lineSplitted[0])\n",
    "mapped"
   ]
  },
  {
   "cell_type": "code",
   "execution_count": 18,
   "metadata": {},
   "outputs": [],
   "source": [
    "with open(\"../data/actor_types_map.config\", \"a\") as typesMapConfig:\n",
    "    for old, new in toReplace.items():\n",
    "        if old not in mapped:\n",
    "            typesMapConfig.write(old + '=' + new + '\\n')"
   ]
  }
 ],
 "metadata": {
  "kernelspec": {
   "display_name": ".venv",
   "language": "python",
   "name": "python3"
  },
  "language_info": {
   "codemirror_mode": {
    "name": "ipython",
    "version": 3
   },
   "file_extension": ".py",
   "mimetype": "text/x-python",
   "name": "python",
   "nbconvert_exporter": "python",
   "pygments_lexer": "ipython3",
   "version": "3.12.3"
  }
 },
 "nbformat": 4,
 "nbformat_minor": 2
}
